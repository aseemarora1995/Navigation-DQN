{
 "cells": [
  {
   "cell_type": "markdown",
   "metadata": {},
   "source": [
    "# Project Navigation - Report\n",
    "\n",
    "## Learning Algorithm\n",
    "### Algorithm used\n",
    "DQN algorithm has been used to complete the project.\n",
    "\n",
    "### Hyperparameters\n",
    "\n",
    "Following hyperparameters have been used to train the network:\n",
    "* BUFFER_SIZE = int(1e5)\n",
    "* BATCH_SIZE = 64\n",
    "* GAMMA = 0.99\n",
    "* TAU = 1e-3\n",
    "* LR = 5e-4\n",
    "* UPDATE_EVERY = 4\n",
    "\n",
    "\n",
    "### Network architecture\n",
    "The network consists of two hidden layers\n",
    "* First hidden layer contains 64 nodes.\n",
    "* Second hidden layer contains 64 nodes.\n",
    "* Relu activation is applied on both the layers.\n",
    "\n",
    "## Plot of Rewards\n",
    "```\n",
    "Episode 100\tAverage Score: 1.26\n",
    "Episode 200\tAverage Score: 4.47\n",
    "Episode 300\tAverage Score: 7.15\n",
    "Episode 400\tAverage Score: 10.39\n",
    "Episode 500\tAverage Score: 13.28\n",
    "Episode 600\tAverage Score: 14.20\n",
    "Episode 691\tAverage Score: 15.02\n",
    "Environment solved in 591 episodes!\tAverage Score: 15.02\n",
    "```\n",
    "\n",
    "\n",
    "![alt text](imagename.png \"Left\")\n",
    "\n",
    "## Ideas for future work\n",
    "Experimentation using\n",
    "* Double DQN\n",
    "* Dueling DQN\n",
    "* Prioritized replay"
   ]
  }
 ],
 "metadata": {
  "anaconda-cloud": {},
  "kernelspec": {
   "display_name": "Python [py35]",
   "language": "python",
   "name": "Python [py35]"
  },
  "language_info": {
   "codemirror_mode": {
    "name": "ipython",
    "version": 3
   },
   "file_extension": ".py",
   "mimetype": "text/x-python",
   "name": "python",
   "nbconvert_exporter": "python",
   "pygments_lexer": "ipython3",
   "version": "3.5.4"
  }
 },
 "nbformat": 4,
 "nbformat_minor": 0
}
